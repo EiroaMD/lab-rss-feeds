{
 "cells": [
  {
   "cell_type": "markdown",
   "metadata": {},
   "source": [
    "# Working with RSS Feeds Lab\n",
    "\n",
    "Complete the following set of exercises to solidify your knowledge of parsing RSS feeds and extracting information from them."
   ]
  },
  {
   "cell_type": "code",
   "execution_count": 1,
   "metadata": {},
   "outputs": [],
   "source": [
    "import feedparser"
   ]
  },
  {
   "cell_type": "markdown",
   "metadata": {},
   "source": [
    "### 1. Use feedparser to parse the following RSS feed URL."
   ]
  },
  {
   "cell_type": "code",
   "execution_count": 2,
   "metadata": {},
   "outputs": [],
   "source": [
    "url = 'http://feeds.feedburner.com/oreilly/radar/atom'"
   ]
  },
  {
   "cell_type": "code",
   "execution_count": 3,
   "metadata": {},
   "outputs": [],
   "source": [
    "parsed = feedparser.parse(url)"
   ]
  },
  {
   "cell_type": "markdown",
   "metadata": {},
   "source": [
    "### 2. Obtain a list of components (keys) that are available for this feed."
   ]
  },
  {
   "cell_type": "code",
   "execution_count": 4,
   "metadata": {},
   "outputs": [
    {
     "name": "stdout",
     "output_type": "stream",
     "text": [
      "['feed', 'entries', 'bozo', 'headers', 'etag', 'updated', 'updated_parsed', 'href', 'status', 'encoding', 'version', 'namespaces']\n"
     ]
    }
   ],
   "source": [
    "print(list(parsed.keys()))"
   ]
  },
  {
   "cell_type": "markdown",
   "metadata": {},
   "source": [
    "### 3. Obtain a list of components (keys) that are available for the *feed* component of this RSS feed."
   ]
  },
  {
   "cell_type": "code",
   "execution_count": 5,
   "metadata": {},
   "outputs": [
    {
     "name": "stdout",
     "output_type": "stream",
     "text": [
      "['title', 'title_detail', 'id', 'guidislink', 'link', 'updated', 'updated_parsed', 'subtitle', 'subtitle_detail', 'links', 'authors', 'author_detail', 'author', 'feedburner_info', 'geo_lat', 'geo_long', 'feedburner_emailserviceid', 'feedburner_feedburnerhostname']\n"
     ]
    }
   ],
   "source": [
    "print(list(parsed.feed.keys()))"
   ]
  },
  {
   "cell_type": "markdown",
   "metadata": {},
   "source": [
    "### 4. Extract and print the feed title, subtitle, author, and link."
   ]
  },
  {
   "cell_type": "code",
   "execution_count": 6,
   "metadata": {},
   "outputs": [
    {
     "name": "stdout",
     "output_type": "stream",
     "text": [
      "All - O'Reilly Media\n",
      "All of our Ideas and Learning material from all of our topics.\n",
      "O'Reilly Media\n",
      "https://www.oreilly.com\n"
     ]
    }
   ],
   "source": [
    "print(parsed.feed.title)\n",
    "print(parsed.feed.subtitle)\n",
    "print(parsed.feed.author)\n",
    "print(parsed.feed.link)"
   ]
  },
  {
   "cell_type": "markdown",
   "metadata": {},
   "source": [
    "### 5. Count the number of entries that are contained in this RSS feed."
   ]
  },
  {
   "cell_type": "code",
   "execution_count": 7,
   "metadata": {},
   "outputs": [
    {
     "data": {
      "text/plain": [
       "60"
      ]
     },
     "execution_count": 7,
     "metadata": {},
     "output_type": "execute_result"
    }
   ],
   "source": [
    "len(parsed.entries)"
   ]
  },
  {
   "cell_type": "markdown",
   "metadata": {},
   "source": [
    "### 6. Obtain a list of components (keys) available for an entry.\n",
    "\n",
    "*Hint: Remember to index first before requesting the keys*"
   ]
  },
  {
   "cell_type": "code",
   "execution_count": 8,
   "metadata": {},
   "outputs": [
    {
     "name": "stdout",
     "output_type": "stream",
     "text": [
      "['title', 'title_detail', 'updated', 'updated_parsed', 'id', 'guidislink', 'link', 'content', 'summary', 'links', 'authors', 'author_detail', 'author', 'feedburner_origlink']\n"
     ]
    }
   ],
   "source": [
    "print(list(parsed.entries[0].keys()))"
   ]
  },
  {
   "cell_type": "markdown",
   "metadata": {},
   "source": [
    "### 7. Extract a list of entry titles."
   ]
  },
  {
   "cell_type": "code",
   "execution_count": 9,
   "metadata": {},
   "outputs": [],
   "source": [
    "titles = [parsed.entries[i].title for i in range(len(parsed.entries))]"
   ]
  },
  {
   "cell_type": "code",
   "execution_count": 10,
   "metadata": {},
   "outputs": [
    {
     "name": "stdout",
     "output_type": "stream",
     "text": [
      "['Four short links: 12 July 2019', 'Four short links: 11 July 2019', 'Four short links: 10 July 2019', 'Four short links: 9 July 2019', 'The circle of fairness', \"Highlights from the O'Reilly Artificial Intelligence Conference in Beijing 2019\", 'The future of hiring and the talent market with AI', 'Designing computer hardware for artificial intelligence', 'The future of machine learning is tiny', 'AI and retail', 'Data orchestration for AI, big data, and cloud', 'AI and systems at RISELab', 'Toward learned algorithms, data structures, and systems', 'Top AI breakthroughs you need to know', 'Four short links: 8 July 2019', 'Four short links: 5 July 2019', 'Four short links: 4 July 2019', 'Tools for machine learning development', 'New live online training courses', 'Four short links: 3 July 2019', 'Four short links: 2 July 2019', 'Four short links: 1 July 2019', 'RISELab’s AutoPandas hints at automation tech that will change the nature of software development', 'Four short links: 28 June 2019', 'One simple chart: Who is interested in Spark NLP?', 'Four short links: 27 June 2019', 'Four short links: 26 June 2019', 'AI and machine learning will require retraining your entire organization', 'Four short links: 25 June 2019', 'Four short links: 24 June 2019', 'Four short links: 21 June 2019', 'Four short links: 20 June 2019', 'Enabling end-to-end machine learning pipelines in real-world applications', 'Four short links: 19 June 2019', 'What are model governance and model operations?', 'Four short links: 18 June 2019', 'The quest for high-quality data', 'Four short links: 17 June 2019', 'Prioritizing technical debt as if time and money mattered', 'From the trenches with Rebecca Parsons', 'Choices of scale', 'Four short links: 14 June 2019', 'The cloud native elephant in the room', 'Kubernetes for the impatient', 'Cultivating production excellence', 'Infrastructure first: Because solving complex problems needs more than technology', 'How do we heal?', \"Highlights from the O'Reilly Software Architecture Conference in San Jose 2019\", 'Cultivate your personal design heuristics', 'Architect as storyteller', 'Next Architecture', 'Security and deception: Lessons from a professional liar', 'Four short links: 13 June 2019', 'Channel into the universe of eventually perfect distributed systems', 'Scaling teams with technology (or is it the other way around?)', 'Community projects inform enterprise products', \"Highlights from the O'Reilly Velocity Conference in San Jose 2019\", 'The SRE I aspire to be', 'From puzzles to products', 'Four short links: 12 June 2019']\n"
     ]
    }
   ],
   "source": [
    "print(titles)"
   ]
  },
  {
   "cell_type": "markdown",
   "metadata": {},
   "source": [
    "### 8. Calculate the percentage of \"Four short links\" entry titles."
   ]
  },
  {
   "cell_type": "code",
   "execution_count": 11,
   "metadata": {},
   "outputs": [],
   "source": [
    "perc = (len([i for i in titles if 'Four short links' in i])/len(titles))*100"
   ]
  },
  {
   "cell_type": "code",
   "execution_count": 12,
   "metadata": {},
   "outputs": [
    {
     "name": "stdout",
     "output_type": "stream",
     "text": [
      "Percentage: 38.33%\n"
     ]
    }
   ],
   "source": [
    "print(\"Percentage: \" + (str(round(perc, 2))) + \"%\")"
   ]
  },
  {
   "cell_type": "markdown",
   "metadata": {},
   "source": [
    "### 9. Create a Pandas data frame from the feed's entries."
   ]
  },
  {
   "cell_type": "code",
   "execution_count": 13,
   "metadata": {},
   "outputs": [],
   "source": [
    "import pandas as pd\n",
    "import numpy as np"
   ]
  },
  {
   "cell_type": "code",
   "execution_count": 14,
   "metadata": {},
   "outputs": [
    {
     "data": {
      "text/html": [
       "<div>\n",
       "<style scoped>\n",
       "    .dataframe tbody tr th:only-of-type {\n",
       "        vertical-align: middle;\n",
       "    }\n",
       "\n",
       "    .dataframe tbody tr th {\n",
       "        vertical-align: top;\n",
       "    }\n",
       "\n",
       "    .dataframe thead th {\n",
       "        text-align: right;\n",
       "    }\n",
       "</style>\n",
       "<table border=\"1\" class=\"dataframe\">\n",
       "  <thead>\n",
       "    <tr style=\"text-align: right;\">\n",
       "      <th></th>\n",
       "      <th>author</th>\n",
       "      <th>author_detail</th>\n",
       "      <th>authors</th>\n",
       "      <th>content</th>\n",
       "      <th>feedburner_origlink</th>\n",
       "      <th>guidislink</th>\n",
       "      <th>id</th>\n",
       "      <th>link</th>\n",
       "      <th>links</th>\n",
       "      <th>summary</th>\n",
       "      <th>title</th>\n",
       "      <th>title_detail</th>\n",
       "      <th>updated</th>\n",
       "      <th>updated_parsed</th>\n",
       "    </tr>\n",
       "  </thead>\n",
       "  <tbody>\n",
       "    <tr>\n",
       "      <th>0</th>\n",
       "      <td>Nat Torkington</td>\n",
       "      <td>{'name': 'Nat Torkington'}</td>\n",
       "      <td>[{'name': 'Nat Torkington'}]</td>\n",
       "      <td>[{'type': 'text/html', 'language': None, 'base...</td>\n",
       "      <td>https://www.oreilly.com/ideas/four-short-links...</td>\n",
       "      <td>True</td>\n",
       "      <td>tag:www.oreilly.com,2019-07-12:/ideas/four-sho...</td>\n",
       "      <td>http://feedproxy.google.com/~r/oreilly/radar/a...</td>\n",
       "      <td>[{'href': 'http://feedproxy.google.com/~r/orei...</td>\n",
       "      <td>&lt;p&gt;&lt;em&gt;Hosting Hate, Releasing, Government Inn...</td>\n",
       "      <td>Four short links: 12 July 2019</td>\n",
       "      <td>{'type': 'text/plain', 'language': None, 'base...</td>\n",
       "      <td>2019-07-12T10:50:00Z</td>\n",
       "      <td>(2019, 7, 12, 10, 50, 0, 4, 193, 0)</td>\n",
       "    </tr>\n",
       "    <tr>\n",
       "      <th>1</th>\n",
       "      <td>Nat Torkington</td>\n",
       "      <td>{'name': 'Nat Torkington'}</td>\n",
       "      <td>[{'name': 'Nat Torkington'}]</td>\n",
       "      <td>[{'type': 'text/html', 'language': None, 'base...</td>\n",
       "      <td>https://www.oreilly.com/ideas/four-short-links...</td>\n",
       "      <td>True</td>\n",
       "      <td>tag:www.oreilly.com,2019-07-11:/ideas/four-sho...</td>\n",
       "      <td>http://feedproxy.google.com/~r/oreilly/radar/a...</td>\n",
       "      <td>[{'href': 'http://feedproxy.google.com/~r/orei...</td>\n",
       "      <td>&lt;p&gt;&lt;em&gt;Museum Copyright, Twitter Apprenticeshi...</td>\n",
       "      <td>Four short links: 11 July 2019</td>\n",
       "      <td>{'type': 'text/plain', 'language': None, 'base...</td>\n",
       "      <td>2019-07-11T12:10:00Z</td>\n",
       "      <td>(2019, 7, 11, 12, 10, 0, 3, 192, 0)</td>\n",
       "    </tr>\n",
       "    <tr>\n",
       "      <th>2</th>\n",
       "      <td>Nat Torkington</td>\n",
       "      <td>{'name': 'Nat Torkington'}</td>\n",
       "      <td>[{'name': 'Nat Torkington'}]</td>\n",
       "      <td>[{'type': 'text/html', 'language': None, 'base...</td>\n",
       "      <td>https://www.oreilly.com/ideas/four-short-links...</td>\n",
       "      <td>True</td>\n",
       "      <td>tag:www.oreilly.com,2019-07-10:/ideas/four-sho...</td>\n",
       "      <td>http://feedproxy.google.com/~r/oreilly/radar/a...</td>\n",
       "      <td>[{'href': 'http://feedproxy.google.com/~r/orei...</td>\n",
       "      <td>&lt;p&gt;&lt;em&gt;Optimizations and Security, 512 Byte Pa...</td>\n",
       "      <td>Four short links: 10 July 2019</td>\n",
       "      <td>{'type': 'text/plain', 'language': None, 'base...</td>\n",
       "      <td>2019-07-10T12:45:00Z</td>\n",
       "      <td>(2019, 7, 10, 12, 45, 0, 2, 191, 0)</td>\n",
       "    </tr>\n",
       "    <tr>\n",
       "      <th>3</th>\n",
       "      <td>Nat Torkington</td>\n",
       "      <td>{'name': 'Nat Torkington'}</td>\n",
       "      <td>[{'name': 'Nat Torkington'}]</td>\n",
       "      <td>[{'type': 'text/html', 'language': None, 'base...</td>\n",
       "      <td>https://www.oreilly.com/ideas/four-short-links...</td>\n",
       "      <td>True</td>\n",
       "      <td>tag:www.oreilly.com,2019-07-09:/ideas/four-sho...</td>\n",
       "      <td>http://feedproxy.google.com/~r/oreilly/radar/a...</td>\n",
       "      <td>[{'href': 'http://feedproxy.google.com/~r/orei...</td>\n",
       "      <td>&lt;p&gt;&lt;em&gt;Future of Work, GRANDstack, Hilarious L...</td>\n",
       "      <td>Four short links: 9 July 2019</td>\n",
       "      <td>{'type': 'text/plain', 'language': None, 'base...</td>\n",
       "      <td>2019-07-09T11:40:00Z</td>\n",
       "      <td>(2019, 7, 9, 11, 40, 0, 1, 190, 0)</td>\n",
       "    </tr>\n",
       "    <tr>\n",
       "      <th>4</th>\n",
       "      <td>Mike Loukides</td>\n",
       "      <td>{'name': 'Mike Loukides'}</td>\n",
       "      <td>[{'name': 'Mike Loukides'}]</td>\n",
       "      <td>[{'type': 'text/html', 'language': None, 'base...</td>\n",
       "      <td>https://www.oreilly.com/ideas/the-circle-of-fa...</td>\n",
       "      <td>True</td>\n",
       "      <td>tag:www.oreilly.com,2019-07-09:/ideas/the-circ...</td>\n",
       "      <td>http://feedproxy.google.com/~r/oreilly/radar/a...</td>\n",
       "      <td>[{'href': 'http://feedproxy.google.com/~r/orei...</td>\n",
       "      <td>&lt;p&gt;&lt;img src='https://d3ucjech6zwjp8.cloudfront...</td>\n",
       "      <td>The circle of fairness</td>\n",
       "      <td>{'type': 'text/plain', 'language': None, 'base...</td>\n",
       "      <td>2019-07-09T11:00:00Z</td>\n",
       "      <td>(2019, 7, 9, 11, 0, 0, 1, 190, 0)</td>\n",
       "    </tr>\n",
       "  </tbody>\n",
       "</table>\n",
       "</div>"
      ],
      "text/plain": [
       "           author               author_detail                       authors  \\\n",
       "0  Nat Torkington  {'name': 'Nat Torkington'}  [{'name': 'Nat Torkington'}]   \n",
       "1  Nat Torkington  {'name': 'Nat Torkington'}  [{'name': 'Nat Torkington'}]   \n",
       "2  Nat Torkington  {'name': 'Nat Torkington'}  [{'name': 'Nat Torkington'}]   \n",
       "3  Nat Torkington  {'name': 'Nat Torkington'}  [{'name': 'Nat Torkington'}]   \n",
       "4   Mike Loukides   {'name': 'Mike Loukides'}   [{'name': 'Mike Loukides'}]   \n",
       "\n",
       "                                             content  \\\n",
       "0  [{'type': 'text/html', 'language': None, 'base...   \n",
       "1  [{'type': 'text/html', 'language': None, 'base...   \n",
       "2  [{'type': 'text/html', 'language': None, 'base...   \n",
       "3  [{'type': 'text/html', 'language': None, 'base...   \n",
       "4  [{'type': 'text/html', 'language': None, 'base...   \n",
       "\n",
       "                                 feedburner_origlink  guidislink  \\\n",
       "0  https://www.oreilly.com/ideas/four-short-links...        True   \n",
       "1  https://www.oreilly.com/ideas/four-short-links...        True   \n",
       "2  https://www.oreilly.com/ideas/four-short-links...        True   \n",
       "3  https://www.oreilly.com/ideas/four-short-links...        True   \n",
       "4  https://www.oreilly.com/ideas/the-circle-of-fa...        True   \n",
       "\n",
       "                                                  id  \\\n",
       "0  tag:www.oreilly.com,2019-07-12:/ideas/four-sho...   \n",
       "1  tag:www.oreilly.com,2019-07-11:/ideas/four-sho...   \n",
       "2  tag:www.oreilly.com,2019-07-10:/ideas/four-sho...   \n",
       "3  tag:www.oreilly.com,2019-07-09:/ideas/four-sho...   \n",
       "4  tag:www.oreilly.com,2019-07-09:/ideas/the-circ...   \n",
       "\n",
       "                                                link  \\\n",
       "0  http://feedproxy.google.com/~r/oreilly/radar/a...   \n",
       "1  http://feedproxy.google.com/~r/oreilly/radar/a...   \n",
       "2  http://feedproxy.google.com/~r/oreilly/radar/a...   \n",
       "3  http://feedproxy.google.com/~r/oreilly/radar/a...   \n",
       "4  http://feedproxy.google.com/~r/oreilly/radar/a...   \n",
       "\n",
       "                                               links  \\\n",
       "0  [{'href': 'http://feedproxy.google.com/~r/orei...   \n",
       "1  [{'href': 'http://feedproxy.google.com/~r/orei...   \n",
       "2  [{'href': 'http://feedproxy.google.com/~r/orei...   \n",
       "3  [{'href': 'http://feedproxy.google.com/~r/orei...   \n",
       "4  [{'href': 'http://feedproxy.google.com/~r/orei...   \n",
       "\n",
       "                                             summary  \\\n",
       "0  <p><em>Hosting Hate, Releasing, Government Inn...   \n",
       "1  <p><em>Museum Copyright, Twitter Apprenticeshi...   \n",
       "2  <p><em>Optimizations and Security, 512 Byte Pa...   \n",
       "3  <p><em>Future of Work, GRANDstack, Hilarious L...   \n",
       "4  <p><img src='https://d3ucjech6zwjp8.cloudfront...   \n",
       "\n",
       "                            title  \\\n",
       "0  Four short links: 12 July 2019   \n",
       "1  Four short links: 11 July 2019   \n",
       "2  Four short links: 10 July 2019   \n",
       "3   Four short links: 9 July 2019   \n",
       "4          The circle of fairness   \n",
       "\n",
       "                                        title_detail               updated  \\\n",
       "0  {'type': 'text/plain', 'language': None, 'base...  2019-07-12T10:50:00Z   \n",
       "1  {'type': 'text/plain', 'language': None, 'base...  2019-07-11T12:10:00Z   \n",
       "2  {'type': 'text/plain', 'language': None, 'base...  2019-07-10T12:45:00Z   \n",
       "3  {'type': 'text/plain', 'language': None, 'base...  2019-07-09T11:40:00Z   \n",
       "4  {'type': 'text/plain', 'language': None, 'base...  2019-07-09T11:00:00Z   \n",
       "\n",
       "                        updated_parsed  \n",
       "0  (2019, 7, 12, 10, 50, 0, 4, 193, 0)  \n",
       "1  (2019, 7, 11, 12, 10, 0, 3, 192, 0)  \n",
       "2  (2019, 7, 10, 12, 45, 0, 2, 191, 0)  \n",
       "3   (2019, 7, 9, 11, 40, 0, 1, 190, 0)  \n",
       "4    (2019, 7, 9, 11, 0, 0, 1, 190, 0)  "
      ]
     },
     "execution_count": 14,
     "metadata": {},
     "output_type": "execute_result"
    }
   ],
   "source": [
    "link_df = pd.DataFrame(parsed.entries)\n",
    "link_df.head()"
   ]
  },
  {
   "cell_type": "markdown",
   "metadata": {},
   "source": [
    "### 10. Count the number of entries per author and sort them in descending order."
   ]
  },
  {
   "cell_type": "code",
   "execution_count": 15,
   "metadata": {},
   "outputs": [
    {
     "data": {
      "text/plain": [
       "author\n",
       "Nat Torkington                           23\n",
       "Ben Lorica                                4\n",
       "Jenn Webb                                 3\n",
       "Yaniv Aknin                               1\n",
       "Jessica Kerr                              1\n",
       "Adam Tornhill                             1\n",
       "Alex Qin                                  1\n",
       "Ben Lorica, Harish Doddi, David Talby     1\n",
       "Bob Quillin                               1\n",
       "Bridget Kromhout                          1\n",
       "Chen Goldberg                             1\n",
       "Chris Guzikowski                          1\n",
       "Everett Harper                            1\n",
       "Haoyuan Li                                1\n",
       "Ihab Ilyas, Ben Lorica                    1\n",
       "Ion Stoica                                1\n",
       "Lachlan Evenson, Bridget Kromhout         1\n",
       "Tim Kraska                                1\n",
       "Lena Hall                                 1\n",
       "Liz Fong-Jones                            1\n",
       "Mac Slocum                                1\n",
       "Maria Zhang                               1\n",
       "Michael Carducci                          1\n",
       "Michael Feathers                          1\n",
       "Michael James                             1\n",
       "Mike Loukides                             1\n",
       "Mikio Braun                               1\n",
       "Nathaniel Schutta                         1\n",
       "Pete Warden                               1\n",
       "Rebecca Parsons, Neal Ford                1\n",
       "Rebecca Wirfs-Brock                       1\n",
       "Abigail Hing Wen                          1\n",
       "Name: author, dtype: int64"
      ]
     },
     "execution_count": 15,
     "metadata": {},
     "output_type": "execute_result"
    }
   ],
   "source": [
    "# Esto lo saqué del blog del traductor SQL\n",
    "art_per_aut = link_df.groupby('author')['author'].count()\n",
    "art_per_aut = art_per_aut.sort_values(ascending=False)\n",
    "art_per_aut"
   ]
  },
  {
   "cell_type": "markdown",
   "metadata": {},
   "source": [
    "### 11. Add a new column to the data frame that contains the length (number of characters) of each entry title. Return a data frame that contains the title, author, and title length of each entry in descending order (longest title length at the top)."
   ]
  },
  {
   "cell_type": "code",
   "execution_count": 16,
   "metadata": {},
   "outputs": [],
   "source": [
    "link_df['title_len'] =[len(i) for i in link_df['title']]"
   ]
  },
  {
   "cell_type": "code",
   "execution_count": 17,
   "metadata": {},
   "outputs": [
    {
     "data": {
      "text/html": [
       "<div>\n",
       "<style scoped>\n",
       "    .dataframe tbody tr th:only-of-type {\n",
       "        vertical-align: middle;\n",
       "    }\n",
       "\n",
       "    .dataframe tbody tr th {\n",
       "        vertical-align: top;\n",
       "    }\n",
       "\n",
       "    .dataframe thead th {\n",
       "        text-align: right;\n",
       "    }\n",
       "</style>\n",
       "<table border=\"1\" class=\"dataframe\">\n",
       "  <thead>\n",
       "    <tr style=\"text-align: right;\">\n",
       "      <th></th>\n",
       "      <th>title</th>\n",
       "      <th>author</th>\n",
       "      <th>title_len</th>\n",
       "    </tr>\n",
       "  </thead>\n",
       "  <tbody>\n",
       "    <tr>\n",
       "      <th>22</th>\n",
       "      <td>RISELab’s AutoPandas hints at automation tech ...</td>\n",
       "      <td>Ben Lorica</td>\n",
       "      <td>97</td>\n",
       "    </tr>\n",
       "    <tr>\n",
       "      <th>45</th>\n",
       "      <td>Infrastructure first: Because solving complex ...</td>\n",
       "      <td>Everett Harper</td>\n",
       "      <td>81</td>\n",
       "    </tr>\n",
       "    <tr>\n",
       "      <th>5</th>\n",
       "      <td>Highlights from the O'Reilly Artificial Intell...</td>\n",
       "      <td>Jenn Webb</td>\n",
       "      <td>79</td>\n",
       "    </tr>\n",
       "    <tr>\n",
       "      <th>47</th>\n",
       "      <td>Highlights from the O'Reilly Software Architec...</td>\n",
       "      <td>Jenn Webb</td>\n",
       "      <td>78</td>\n",
       "    </tr>\n",
       "    <tr>\n",
       "      <th>32</th>\n",
       "      <td>Enabling end-to-end machine learning pipelines...</td>\n",
       "      <td>Ben Lorica</td>\n",
       "      <td>73</td>\n",
       "    </tr>\n",
       "  </tbody>\n",
       "</table>\n",
       "</div>"
      ],
      "text/plain": [
       "                                                title          author  \\\n",
       "22  RISELab’s AutoPandas hints at automation tech ...      Ben Lorica   \n",
       "45  Infrastructure first: Because solving complex ...  Everett Harper   \n",
       "5   Highlights from the O'Reilly Artificial Intell...       Jenn Webb   \n",
       "47  Highlights from the O'Reilly Software Architec...       Jenn Webb   \n",
       "32  Enabling end-to-end machine learning pipelines...      Ben Lorica   \n",
       "\n",
       "    title_len  \n",
       "22         97  \n",
       "45         81  \n",
       "5          79  \n",
       "47         78  \n",
       "32         73  "
      ]
     },
     "execution_count": 17,
     "metadata": {},
     "output_type": "execute_result"
    }
   ],
   "source": [
    "title_sorted = link_df[['title','author','title_len']].sort_values(by='title_len',ascending=False)\n",
    "title_sorted.head()"
   ]
  },
  {
   "cell_type": "markdown",
   "metadata": {},
   "source": [
    "### 12. Create a list of entry titles whose summary includes the phrase \"machine learning.\""
   ]
  },
  {
   "cell_type": "code",
   "execution_count": 18,
   "metadata": {},
   "outputs": [
    {
     "data": {
      "text/plain": [
       "[\"Highlights from the O'Reilly Artificial Intelligence Conference in Beijing 2019\",\n",
       " 'The future of machine learning is tiny',\n",
       " 'Tools for machine learning development',\n",
       " 'New live online training courses',\n",
       " 'RISELab’s AutoPandas hints at automation tech that will change the nature of software development',\n",
       " 'AI and machine learning will require retraining your entire organization',\n",
       " 'Enabling end-to-end machine learning pipelines in real-world applications',\n",
       " 'What are model governance and model operations?',\n",
       " 'The quest for high-quality data']"
      ]
     },
     "execution_count": 18,
     "metadata": {},
     "output_type": "execute_result"
    }
   ],
   "source": [
    "list(link_df['title'].loc[(link_df['summary'].str.contains('machine learning'))])"
   ]
  }
 ],
 "metadata": {
  "kernelspec": {
   "display_name": "Python 3",
   "language": "python",
   "name": "python3"
  },
  "language_info": {
   "codemirror_mode": {
    "name": "ipython",
    "version": 3
   },
   "file_extension": ".py",
   "mimetype": "text/x-python",
   "name": "python",
   "nbconvert_exporter": "python",
   "pygments_lexer": "ipython3",
   "version": "3.6.8"
  }
 },
 "nbformat": 4,
 "nbformat_minor": 2
}
